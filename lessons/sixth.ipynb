{
 "cells": [
  {
   "cell_type": "code",
   "execution_count": 1,
   "metadata": {},
   "outputs": [],
   "source": [
    "from sqlalchemy import create_engine\n",
    "engine = create_engine('sqlite:///sau.db', echo = False)"
   ]
  },
  {
   "cell_type": "code",
   "execution_count": 2,
   "metadata": {},
   "outputs": [
    {
     "name": "stderr",
     "output_type": "stream",
     "text": [
      "/var/folders/4k/wgkgfj912ld9k97z_2vd20400000gn/T/ipykernel_48038/119683153.py:2: MovedIn20Warning: The ``declarative_base()`` function is now available as sqlalchemy.orm.declarative_base(). (deprecated since: 2.0) (Background on SQLAlchemy 2.0 at: https://sqlalche.me/e/b8d9)\n",
      "  Base = declarative_base()\n"
     ]
    }
   ],
   "source": [
    "from sqlalchemy.ext.declarative import declarative_base\n",
    "Base = declarative_base()\n",
    "from sqlalchemy import Column, Integer, String\n",
    "\n",
    "class Students(Base):\n",
    "   __tablename__ = 'students'\n",
    "   \n",
    "   id = Column(Integer, primary_key = True)\n",
    "   name = Column(String)\n",
    "   address = Column(String)\n",
    "   email = Column(String)\n",
    "\n",
    "Base.metadata.create_all(engine)"
   ]
  },
  {
   "cell_type": "code",
   "execution_count": 3,
   "metadata": {},
   "outputs": [],
   "source": [
    "from sqlalchemy.orm import sessionmaker\n",
    "Session = sessionmaker(bind = engine)\n",
    "\n",
    "session = Session()"
   ]
  },
  {
   "cell_type": "code",
   "execution_count": 4,
   "metadata": {},
   "outputs": [],
   "source": [
    "student1 = Students(name=\"Majid\",address=\"yazd\",email=\"ali@google.com\")\n",
    "student2 = Students(name=\"Ghasem\",address=\"yazd\",email=\"ali@google.com\")\n",
    "\n",
    "# session.add(student1)\n",
    "session.add_all([student1,student2])\n",
    "session.commit()"
   ]
  },
  {
   "cell_type": "code",
   "execution_count": 5,
   "metadata": {},
   "outputs": [],
   "source": [
    "session.rollback()"
   ]
  },
  {
   "cell_type": "code",
   "execution_count": 6,
   "metadata": {},
   "outputs": [
    {
     "data": {
      "text/plain": [
       "12"
      ]
     },
     "execution_count": 6,
     "metadata": {},
     "output_type": "execute_result"
    }
   ],
   "source": [
    "students = session.query(Students).all()\n",
    "\n",
    "students[5].id"
   ]
  },
  {
   "cell_type": "code",
   "execution_count": 7,
   "metadata": {},
   "outputs": [
    {
     "name": "stdout",
     "output_type": "stream",
     "text": [
      "hello my name is Ali, i live in yazd\n",
      "hello my name is Ali, i live in yazd\n",
      "hello my name is Ali, i live in yazd\n",
      "hello my name is Ali, i live in yazd\n",
      "hello my name is Majid, i live in yazd\n",
      "hello my name is Ghasem, i live in yazd\n",
      "hello my name is Majid, i live in yazd\n",
      "hello my name is Ghasem, i live in yazd\n"
     ]
    }
   ],
   "source": [
    "for student in students:\n",
    "    # print(student.name)\n",
    "    print(f'hello my name is {student.name}, i live in {student.address}')"
   ]
  }
 ],
 "metadata": {
  "kernelspec": {
   "display_name": "myvenv",
   "language": "python",
   "name": "python3"
  },
  "language_info": {
   "codemirror_mode": {
    "name": "ipython",
    "version": 3
   },
   "file_extension": ".py",
   "mimetype": "text/x-python",
   "name": "python",
   "nbconvert_exporter": "python",
   "pygments_lexer": "ipython3",
   "version": "3.12.0"
  }
 },
 "nbformat": 4,
 "nbformat_minor": 2
}
