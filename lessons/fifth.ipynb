{
 "cells": [
  {
   "cell_type": "code",
   "execution_count": 21,
   "metadata": {},
   "outputs": [
    {
     "data": {
      "text/plain": [
       "4"
      ]
     },
     "execution_count": 21,
     "metadata": {},
     "output_type": "execute_result"
    }
   ],
   "source": [
    "class Car:\n",
    "    wheels = 4\n",
    "\n",
    "car1 = Car()\n",
    "# car1\n",
    "car1.wheels"
   ]
  },
  {
   "cell_type": "code",
   "execution_count": 22,
   "metadata": {},
   "outputs": [
    {
     "name": "stdout",
     "output_type": "stream",
     "text": [
      "4\n",
      "3\n"
     ]
    }
   ],
   "source": [
    "car2 = Car()\n",
    "print(car2.wheels)\n",
    "car2.wheels = 3\n",
    "print(car2.wheels)"
   ]
  },
  {
   "cell_type": "code",
   "execution_count": 23,
   "metadata": {},
   "outputs": [
    {
     "data": {
      "text/plain": [
       "4"
      ]
     },
     "execution_count": 23,
     "metadata": {},
     "output_type": "execute_result"
    }
   ],
   "source": [
    "car1.wheels"
   ]
  },
  {
   "cell_type": "code",
   "execution_count": 24,
   "metadata": {},
   "outputs": [
    {
     "name": "stdout",
     "output_type": "stream",
     "text": [
      "4\n"
     ]
    },
    {
     "data": {
      "text/plain": [
       "'WELCOME TO CLASS!'"
      ]
     },
     "execution_count": 24,
     "metadata": {},
     "output_type": "execute_result"
    }
   ],
   "source": [
    "# reminder FUNCTIONS\n",
    "\n",
    "def sum(x1,x2):\n",
    "    return x1 + x2\n",
    "\n",
    "print(sum(1,3))\n",
    "\n",
    "\n",
    "def welcome():\n",
    "    return \"WELCOME TO CLASS!\"\n",
    "\n",
    "welcome()\n"
   ]
  },
  {
   "cell_type": "code",
   "execution_count": 25,
   "metadata": {},
   "outputs": [
    {
     "name": "stdout",
     "output_type": "stream",
     "text": [
      "4\n",
      "5\n"
     ]
    },
    {
     "data": {
      "text/plain": [
       "5"
      ]
     },
     "execution_count": 25,
     "metadata": {},
     "output_type": "execute_result"
    }
   ],
   "source": [
    "class Car:\n",
    "    wheels = 4\n",
    "\n",
    "    def speed(self):\n",
    "        # return 120\n",
    "        return self.wheels\n",
    "    \n",
    "car3 = Car()\n",
    "print(car3.wheels)\n",
    "car3.wheels = 5\n",
    "print(car3.wheels)\n",
    "car3.speed()\n"
   ]
  },
  {
   "cell_type": "code",
   "execution_count": 26,
   "metadata": {},
   "outputs": [
    {
     "name": "stdout",
     "output_type": "stream",
     "text": [
      "<__main__.Car object at 0x106396a50> <__main__.Car object at 0x1064c1a00> <__main__.Car object at 0x1064c3b90>\n"
     ]
    }
   ],
   "source": [
    "print(car1 , car2, car3)"
   ]
  },
  {
   "cell_type": "code",
   "execution_count": 34,
   "metadata": {},
   "outputs": [
    {
     "name": "stdout",
     "output_type": "stream",
     "text": [
      "this is benz\n",
      "this is pride\n"
     ]
    }
   ],
   "source": [
    "# intiate function __init__\n",
    "\n",
    "class Car:\n",
    "    def __init__(self,name, wheels):\n",
    "        self.name = name\n",
    "        self.wheels = wheels\n",
    "\n",
    "    def speed(self):\n",
    "        return self.wheels\n",
    "\n",
    "    def __str__(self) -> str:\n",
    "        return f\"this is {self.name}\"\n",
    "\n",
    "car4 = Car(name = \"benz\", wheels=3)\n",
    "car5 = Car(name = \"pride\", wheels=10)\n",
    "\n",
    "# print(car4.wheels, car5.wheels)\n",
    "print(car4)\n",
    "print(car5)\n"
   ]
  },
  {
   "cell_type": "code",
   "execution_count": 36,
   "metadata": {},
   "outputs": [
    {
     "name": "stdout",
     "output_type": "stream",
     "text": [
      "benz\n"
     ]
    },
    {
     "ename": "AttributeError",
     "evalue": "'Car' object has no attribute 'name'",
     "output_type": "error",
     "traceback": [
      "\u001b[0;31m---------------------------------------------------------------------------\u001b[0m",
      "\u001b[0;31mAttributeError\u001b[0m                            Traceback (most recent call last)",
      "\u001b[1;32m/Users/hamed/Documents/pyjobs/ec4021/fifth.ipynb Cell 8\u001b[0m line \u001b[0;36m3\n\u001b[1;32m      <a href='vscode-notebook-cell:/Users/hamed/Documents/pyjobs/ec4021/fifth.ipynb#X10sZmlsZQ%3D%3D?line=0'>1</a>\u001b[0m \u001b[39mprint\u001b[39m(car4\u001b[39m.\u001b[39mname)\n\u001b[1;32m      <a href='vscode-notebook-cell:/Users/hamed/Documents/pyjobs/ec4021/fifth.ipynb#X10sZmlsZQ%3D%3D?line=1'>2</a>\u001b[0m \u001b[39mdel\u001b[39;00m car4\u001b[39m.\u001b[39mname\n\u001b[0;32m----> <a href='vscode-notebook-cell:/Users/hamed/Documents/pyjobs/ec4021/fifth.ipynb#X10sZmlsZQ%3D%3D?line=2'>3</a>\u001b[0m \u001b[39mprint\u001b[39m(car4\u001b[39m.\u001b[39;49mname)\n",
      "\u001b[0;31mAttributeError\u001b[0m: 'Car' object has no attribute 'name'"
     ]
    }
   ],
   "source": [
    "print(car4.name)\n",
    "del car4.name\n",
    "print(car4.name)"
   ]
  },
  {
   "cell_type": "code",
   "execution_count": 46,
   "metadata": {},
   "outputs": [
    {
     "data": {
      "text/plain": [
       "'this is child of --> Peykan heigh: 30'"
      ]
     },
     "execution_count": 46,
     "metadata": {},
     "output_type": "execute_result"
    }
   ],
   "source": [
    "# inheritance\n",
    "\n",
    "class Car:\n",
    "    def __init__(self,name, wheels):\n",
    "        self.name = name\n",
    "        self.wheels = wheels\n",
    "\n",
    "    def speed(self):\n",
    "        return self.wheels\n",
    "\n",
    "    def __str__(self) -> str:\n",
    "        return f\"this is {self.name}\"\n",
    "    \n",
    "class SuvCar(Car):\n",
    "    # pass\n",
    "    def __init__(self, name, wheels, height):\n",
    "        super().__init__(name, wheels)\n",
    "        self.height = height\n",
    "\n",
    "    def __str__(self) -> str:\n",
    "        return f\"this is child of --> {self.name} heigh: {self.height}\"\n",
    "\n",
    "suv1 = SuvCar(\"Peykan\",5,30)\n",
    "suv1.__str__()"
   ]
  }
 ],
 "metadata": {
  "kernelspec": {
   "display_name": "myvenv",
   "language": "python",
   "name": "python3"
  },
  "language_info": {
   "codemirror_mode": {
    "name": "ipython",
    "version": 3
   },
   "file_extension": ".py",
   "mimetype": "text/x-python",
   "name": "python",
   "nbconvert_exporter": "python",
   "pygments_lexer": "ipython3",
   "version": "3.12.0"
  }
 },
 "nbformat": 4,
 "nbformat_minor": 2
}
