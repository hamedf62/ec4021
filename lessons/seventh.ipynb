{
 "cells": [
  {
   "cell_type": "code",
   "execution_count": 1,
   "metadata": {},
   "outputs": [
    {
     "name": "stderr",
     "output_type": "stream",
     "text": [
      "/var/folders/4k/wgkgfj912ld9k97z_2vd20400000gn/T/ipykernel_52188/2049231215.py:9: MovedIn20Warning: Deprecated API features detected! These feature(s) are not compatible with SQLAlchemy 2.0. To prevent incompatible upgrades prior to updating applications, ensure requirements files are pinned to \"sqlalchemy<2.0\". Set environment variable SQLALCHEMY_WARN_20=1 to show all deprecation warnings.  Set environment variable SQLALCHEMY_SILENCE_UBER_WARNING=1 to silence this message. (Background on SQLAlchemy 2.0 at: https://sqlalche.me/e/b8d9)\n",
      "  Base = declarative_base()\n"
     ]
    }
   ],
   "source": [
    "from sqlalchemy import create_engine\n",
    "from sqlalchemy.ext.declarative import declarative_base\n",
    "from sqlalchemy import Column, Integer, String, ForeignKey\n",
    "from sqlalchemy.orm import sessionmaker\n",
    "from sqlalchemy.orm import relationship\n",
    "\n",
    "engine = create_engine(\"sqlite:///databases/carsowners.db\", echo=False)\n",
    "\n",
    "Base = declarative_base()\n",
    "\n",
    "\n",
    "class Cars(Base):\n",
    "    __tablename__ = \"cars\"\n",
    "\n",
    "    plate = Column(Integer, primary_key=True)\n",
    "    name = Column(String)\n",
    "    color = Column(String)\n",
    "\n",
    "    owner_nid = Column(Integer,ForeignKey(\"owners.nid\"))\n",
    "    owner = relationship(\"Owners\", back_populates=\"cars\")\n",
    "\n",
    "\n",
    "class Owners(Base):\n",
    "    __tablename__ = \"owners\"\n",
    "\n",
    "    nid = Column(Integer, primary_key=True)\n",
    "    fname = Column(String)\n",
    "    lname = Column(String)\n",
    "    age = Column(Integer)\n",
    "\n",
    "    cars = relationship(\"Cars\", back_populates=\"owner\")\n",
    "\n",
    "\n",
    "Base.metadata.create_all(engine)"
   ]
  },
  {
   "cell_type": "code",
   "execution_count": 2,
   "metadata": {},
   "outputs": [],
   "source": [
    "Session = sessionmaker(bind=engine)\n",
    "session = Session()"
   ]
  },
  {
   "cell_type": "code",
   "execution_count": 3,
   "metadata": {},
   "outputs": [],
   "source": [
    "owner1 = Owners(\n",
    "    fname=\"Ali\",\n",
    "    lname=\"Hosseini\",\n",
    "    age=30,\n",
    "    cars=[Cars(name=\"Benz\", color=\"red\"), Cars(name=\"Peugeot206\", color=\"white\")],\n",
    ")\n",
    "\n",
    "session.add(owner1)\n",
    "session.commit()"
   ]
  },
  {
   "cell_type": "code",
   "execution_count": 4,
   "metadata": {},
   "outputs": [],
   "source": [
    "# owner1 = Owners(fname=\"Ali\",lname=\"Hosseini\",age=30)\n",
    "# session.add(owner1)\n",
    "# session.commit()"
   ]
  },
  {
   "cell_type": "code",
   "execution_count": 19,
   "metadata": {},
   "outputs": [
    {
     "name": "stdout",
     "output_type": "stream",
     "text": [
      "hello i am Ali Hosseini, i am 30 years old.\n",
      "i have 3 cars.\n",
      "which is(are) as per below:\n",
      "     1. plate: 1, name: Benz, color: red\n",
      "     2. plate: 2, name: Peugeot206, color: white\n",
      "     3. plate: 3, name: Toyota, color: blue\n",
      "hello i am Majid Karimi, i am 45 years old.\n",
      "i have 0 cars.\n"
     ]
    }
   ],
   "source": [
    "# query to retrieve all owners data\n",
    "\n",
    "owners = session.query(Owners).all()\n",
    "for owner in owners:\n",
    "    print(f\"hello i am {owner.fname} {owner.lname}, i am {owner.age} years old.\")\n",
    "    print(f\"i have {len(owner.cars)} cars.\")\n",
    "    if len(owner.cars) > 0:\n",
    "        print(f\"which is(are) as per below:\")\n",
    "    \n",
    "    i = 1\n",
    "    for car in owner.cars:\n",
    "        print(f\"     {i}. plate: {car.plate}, name: {car.name}, color: {car.color}\")\n",
    "        i += 1\n",
    "\n",
    "    # for i in range(len(owner.cars)):\n",
    "    #     print(i, owner.cars[i].name)\n",
    "        \n"
   ]
  },
  {
   "cell_type": "code",
   "execution_count": 6,
   "metadata": {},
   "outputs": [],
   "source": [
    "# add another owners\n",
    "\n",
    "owner2 = Owners(\n",
    "    fname=\"Majid\",\n",
    "    lname=\"Karimi\",\n",
    "    age=45,\n",
    "    # cars=[Cars(name=\"Benz\", color=\"red\"), Cars(name=\"Peugeot206\", color=\"white\")],\n",
    ")\n",
    "\n",
    "session.add(owner2)\n",
    "session.commit()"
   ]
  },
  {
   "cell_type": "code",
   "execution_count": 7,
   "metadata": {},
   "outputs": [],
   "source": [
    "# add not-owner car\n",
    "car1 = Cars(name=\"Kia\",color=\"blue\")\n",
    "session.add(car1)\n",
    "session.commit()"
   ]
  },
  {
   "cell_type": "code",
   "execution_count": 13,
   "metadata": {},
   "outputs": [
    {
     "name": "stdout",
     "output_type": "stream",
     "text": [
      "Toyota1\n",
      "Toyota\n"
     ]
    }
   ],
   "source": [
    "scar = session.query(Cars).get(3)\n",
    "print(scar.name)\n",
    "scar.name = \"Toyota\"\n",
    "scar.owner_nid = 2\n",
    "print(scar.name)\n",
    "session.commit()"
   ]
  },
  {
   "cell_type": "code",
   "execution_count": 18,
   "metadata": {},
   "outputs": [
    {
     "name": "stdout",
     "output_type": "stream",
     "text": [
      "Toyota Majid\n",
      "Ali\n"
     ]
    }
   ],
   "source": [
    "scar = session.query(Cars).get(3)\n",
    "print(scar.name, scar.owner.fname)\n",
    "\n",
    "owner1 = session.query(Owners).get(1)\n",
    "print(owner1.fname)\n",
    "\n",
    "scar.owner = owner1\n",
    "session.commit()"
   ]
  },
  {
   "cell_type": "code",
   "execution_count": 20,
   "metadata": {},
   "outputs": [],
   "source": [
    "car3 = Cars(name=\"pride\", color = \"orange\", owner=Owners(fname=\"Maryam\",lname=\"Jafari\",age=37))\n",
    "\n",
    "session.add(car3)\n",
    "session.commit()"
   ]
  }
 ],
 "metadata": {
  "kernelspec": {
   "display_name": "myvenv",
   "language": "python",
   "name": "python3"
  },
  "language_info": {
   "codemirror_mode": {
    "name": "ipython",
    "version": 3
   },
   "file_extension": ".py",
   "mimetype": "text/x-python",
   "name": "python",
   "nbconvert_exporter": "python",
   "pygments_lexer": "ipython3",
   "version": "3.12.0"
  }
 },
 "nbformat": 4,
 "nbformat_minor": 2
}
